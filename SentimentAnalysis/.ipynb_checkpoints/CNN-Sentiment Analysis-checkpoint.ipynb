{
 "cells": [
  {
   "cell_type": "markdown",
   "metadata": {},
   "source": [
    "## Importing libraries and packages"
   ]
  },
  {
   "cell_type": "code",
   "execution_count": 1,
   "metadata": {
    "collapsed": true
   },
   "outputs": [],
   "source": [
    "import numpy as np\n",
    "np.random.seed(1337)  # for reproducibility"
   ]
  },
  {
   "cell_type": "code",
   "execution_count": 2,
   "metadata": {
    "collapsed": false
   },
   "outputs": [
    {
     "name": "stderr",
     "output_type": "stream",
     "text": [
      "Using Theano backend.\n"
     ]
    }
   ],
   "source": [
    "from keras.preprocessing import sequence\n",
    "from keras.models import Sequential\n",
    "from keras.layers import Dense, Dropout, Activation, Flatten\n",
    "from keras.layers import Embedding\n",
    "from keras.layers import Convolution1D, MaxPooling1D\n",
    "from keras.datasets import imdb\n",
    "from keras import backend as K"
   ]
  },
  {
   "cell_type": "code",
   "execution_count": 3,
   "metadata": {
    "collapsed": true
   },
   "outputs": [],
   "source": [
    "#embedding\n",
    "max_features = 5000\n",
    "maxlen = 400\n",
    "\n",
    "embedding_dims = 50\n",
    "\n",
    "#convolution\n",
    "nb_filter = 250\n",
    "filter_length = 3\n",
    "\n",
    "hidden_dims = 250\n",
    "\n",
    "#training\n",
    "nb_epoch = 2\n",
    "batch_size = 32"
   ]
  },
  {
   "cell_type": "markdown",
   "metadata": {},
   "source": [
    "## Loading Data"
   ]
  },
  {
   "cell_type": "code",
   "execution_count": 4,
   "metadata": {
    "collapsed": false
   },
   "outputs": [],
   "source": [
    "import pandas as pd\n",
    "data = pd.read_csv( \"labeledTrainData.tsv\", header=0, \n",
    " delimiter=\"\\t\", quoting=3, encoding=\"utf-8\" )"
   ]
  },
  {
   "cell_type": "code",
   "execution_count": 5,
   "metadata": {
    "collapsed": false
   },
   "outputs": [
    {
     "data": {
      "text/plain": [
       "(0    \"With all this stuff going down at the moment ...\n",
       " 1    \"\\\"The Classic War of the Worlds\\\" by Timothy ...\n",
       " 2    \"The film starts with a manager (Nicholas Bell...\n",
       " 3    \"It must be assumed that those who praised thi...\n",
       " 4    \"Superbly trashy and wondrously unpretentious ...\n",
       " Name: review, dtype: object, 0    1\n",
       " 1    1\n",
       " 2    0\n",
       " 3    0\n",
       " 4    1\n",
       " Name: sentiment, dtype: int64)"
      ]
     },
     "execution_count": 5,
     "metadata": {},
     "output_type": "execute_result"
    }
   ],
   "source": [
    "data['review'][0:5], data['sentiment'][0:5]"
   ]
  },
  {
   "cell_type": "code",
   "execution_count": 6,
   "metadata": {
    "collapsed": false
   },
   "outputs": [
    {
     "data": {
      "text/plain": [
       "u'\"With all this stuff going down at the moment with MJ i\\'ve started listening to his music, watching the odd documentary here and there, watched The Wiz and watched Moonwalker again. Maybe i just want to get a certain insight into this guy who i thought was really cool in the eighties just to maybe make up my mind whether he is guilty or innocent. Moonwalker is part biography, part feature film which i remember going to see at the cinema when it was originally released. Some of it has subtle messages about MJ\\'s feeling towards the press and also the obvious message of drugs are bad m\\'kay.<br /><br />Visually impressive but of course this is all about Michael Jackson so unless you remotely like MJ in anyway then you are going to hate this and find it boring. Some may call MJ an egotist for consenting to the making of this movie BUT MJ and most of his fans would say that he made it for the fans which if true is really nice of him.<br /><br />The actual feature film bit when it finally starts is only on for 20 minutes or so excluding the Smooth Criminal sequence and Joe Pesci is convincing as a psychopathic all powerful drug lord. Why he wants MJ dead so bad is beyond me. Because MJ overheard his plans? Nah, Joe Pesci\\'s character ranted that he wanted people to know it is he who is supplying drugs etc so i dunno, maybe he just hates MJ\\'s music.<br /><br />Lots of cool things in this like MJ turning into a car and a robot and the whole Speed Demon sequence. Also, the director must have had the patience of a saint when it came to filming the kiddy Bad sequence as usually directors hate working with one kid let alone a whole bunch of them performing a complex dance scene.<br /><br />Bottom line, this movie is for people who like MJ on one level or another (which i think is most people). If not, then stay away. It does try and give off a wholesome message and ironically MJ\\'s bestest buddy in this movie is a girl! Michael Jackson is truly one of the most talented people ever to grace this planet but is he guilty? Well, with all the attention i\\'ve gave this subject....hmmm well i don\\'t know because people can be different behind closed doors, i know this for a fact. He is either an extremely nice but stupid guy or one of the most sickest liars. I hope he is not the latter.\"'"
      ]
     },
     "execution_count": 6,
     "metadata": {},
     "output_type": "execute_result"
    }
   ],
   "source": [
    "data['review'][0]"
   ]
  },
  {
   "cell_type": "markdown",
   "metadata": {},
   "source": [
    "## Cleaning data"
   ]
  },
  {
   "cell_type": "code",
   "execution_count": 7,
   "metadata": {
    "collapsed": true
   },
   "outputs": [],
   "source": [
    "import re\n",
    "k = []\n",
    "for i in data['review']:\n",
    "    k.append(i.encode('utf-8'))"
   ]
  },
  {
   "cell_type": "code",
   "execution_count": 8,
   "metadata": {
    "collapsed": false
   },
   "outputs": [],
   "source": [
    "from keras.preprocessing.text import Tokenizer, base_filter\n",
    "\n",
    "max_vocab_size = 50000\n",
    "\n",
    "# `filters` specify what characters to get rid of\n",
    "# `base_filter()` includes basic punctuation;\n",
    "# I like to extend it with common unicode punctuation\n",
    "tokenizer = Tokenizer(nb_words=max_vocab_size,\n",
    "                     filters=base_filter()+'“”–')\n",
    "\n",
    "# fit the tokenizer\n",
    "tokenizer.fit_on_texts(k)\n",
    "X_train = []\n",
    "# we also want to keep track of the actual vocab size\n",
    "# we'll need this later\n",
    "# note: we add one because `0` is a reserved index in keras' tokenizer\n",
    "vocab_size = len(tokenizer.word_index) + 1\n",
    "for seq in tokenizer.texts_to_sequences(k):\n",
    "       X_train.append(seq)"
   ]
  },
  {
   "cell_type": "code",
   "execution_count": 9,
   "metadata": {
    "collapsed": false
   },
   "outputs": [
    {
     "data": {
      "text/plain": [
       "list"
      ]
     },
     "execution_count": 9,
     "metadata": {},
     "output_type": "execute_result"
    }
   ],
   "source": [
    "type(X_train)"
   ]
  },
  {
   "cell_type": "code",
   "execution_count": 10,
   "metadata": {
    "collapsed": false
   },
   "outputs": [
    {
     "name": "stdout",
     "output_type": "stream",
     "text": [
      "Pad sequences (samples x time)\n"
     ]
    }
   ],
   "source": [
    "print('Pad sequences (samples x time)')\n",
    "X_train = sequence.pad_sequences(X_train, maxlen=100)"
   ]
  },
  {
   "cell_type": "code",
   "execution_count": 11,
   "metadata": {
    "collapsed": false
   },
   "outputs": [
    {
     "data": {
      "text/plain": [
       "numpy.ndarray"
      ]
     },
     "execution_count": 11,
     "metadata": {},
     "output_type": "execute_result"
    }
   ],
   "source": [
    "type(X_train)"
   ]
  },
  {
   "cell_type": "code",
   "execution_count": 12,
   "metadata": {
    "collapsed": false
   },
   "outputs": [
    {
     "name": "stdout",
     "output_type": "stream",
     "text": [
      "[1 1 0 ..., 0 0 1]\n"
     ]
    }
   ],
   "source": [
    "Y_train = np.asarray(list(data['sentiment']))\n",
    "print(Y_train)"
   ]
  },
  {
   "cell_type": "markdown",
   "metadata": {},
   "source": [
    "## Building model"
   ]
  },
  {
   "cell_type": "code",
   "execution_count": 13,
   "metadata": {
    "collapsed": false
   },
   "outputs": [
    {
     "name": "stdout",
     "output_type": "stream",
     "text": [
      "Build model...\n"
     ]
    }
   ],
   "source": [
    "print('Build model...')\n",
    "model = Sequential()"
   ]
  },
  {
   "cell_type": "code",
   "execution_count": 14,
   "metadata": {
    "collapsed": true
   },
   "outputs": [],
   "source": [
    "# we start off with an efficient embedding layer which maps\n",
    "# our vocab indices into embedding_dims dimensions\n",
    "model.add(Embedding(50000,\n",
    "                    embedding_dims,\n",
    "                    input_length=100,\n",
    "                    dropout=0.2))"
   ]
  },
  {
   "cell_type": "code",
   "execution_count": 15,
   "metadata": {
    "collapsed": false
   },
   "outputs": [],
   "source": [
    "# we add a Convolution1D, which will learn nb_filter\n",
    "# word group filters of size filter_length:\n",
    "model.add(Convolution1D(nb_filter=32,\n",
    "                        filter_length=filter_length,\n",
    "                        border_mode='valid',\n",
    "                        activation='relu',\n",
    "                        subsample_length=1))"
   ]
  },
  {
   "cell_type": "code",
   "execution_count": 16,
   "metadata": {
    "collapsed": false
   },
   "outputs": [],
   "source": [
    "# we use max pooling:\n",
    "model.add(MaxPooling1D(pool_length=model.output_shape[1]))"
   ]
  },
  {
   "cell_type": "code",
   "execution_count": 17,
   "metadata": {
    "collapsed": true
   },
   "outputs": [],
   "source": [
    "# We flatten the output of the conv layer,\n",
    "# so that we can add a vanilla dense layer:\n",
    "model.add(Flatten())\n"
   ]
  },
  {
   "cell_type": "code",
   "execution_count": 18,
   "metadata": {
    "collapsed": true
   },
   "outputs": [],
   "source": [
    "# We add a vanilla hidden layer:\n",
    "model.add(Dense(hidden_dims))\n",
    "model.add(Dropout(0.2))\n",
    "model.add(Activation('relu'))\n"
   ]
  },
  {
   "cell_type": "code",
   "execution_count": 19,
   "metadata": {
    "collapsed": false
   },
   "outputs": [
    {
     "name": "stdout",
     "output_type": "stream",
     "text": [
      "Train on 20000 samples, validate on 5000 samples\n",
      "Epoch 1/2\n",
      "20000/20000 [==============================] - 48s - loss: 0.5154 - acc: 0.7287 - val_loss: 0.3957 - val_acc: 0.8266\n",
      "Epoch 2/2\n",
      "20000/20000 [==============================] - 55s - loss: 0.3434 - acc: 0.8501 - val_loss: 0.3636 - val_acc: 0.8382\n"
     ]
    },
    {
     "data": {
      "text/plain": [
       "<keras.callbacks.History at 0x129335510>"
      ]
     },
     "execution_count": 19,
     "metadata": {},
     "output_type": "execute_result"
    }
   ],
   "source": [
    "# We project onto a single unit output layer, and squash it with a sigmoid:\n",
    "model.add(Dense(1))\n",
    "model.add(Activation('sigmoid'))\n",
    "\n",
    "model.compile(loss='binary_crossentropy',\n",
    "              optimizer='adam',\n",
    "              metrics=['accuracy'])\n",
    "model.fit(X_train, Y_train,\n",
    "          batch_size=batch_size,\n",
    "          nb_epoch=nb_epoch,\n",
    "          validation_split=0.2)"
   ]
  },
  {
   "cell_type": "markdown",
   "metadata": {},
   "source": [
    "## Prediction"
   ]
  },
  {
   "cell_type": "code",
   "execution_count": 20,
   "metadata": {
    "collapsed": false
   },
   "outputs": [],
   "source": [
    "k1=model.predict(X_train)"
   ]
  },
  {
   "cell_type": "code",
   "execution_count": 21,
   "metadata": {
    "collapsed": false
   },
   "outputs": [
    {
     "data": {
      "text/plain": [
       "array([[ 0.70430762],\n",
       "       [ 0.65062225],\n",
       "       [ 0.08837233],\n",
       "       ..., \n",
       "       [ 0.01092899],\n",
       "       [ 0.4599663 ],\n",
       "       [ 0.97542989]], dtype=float32)"
      ]
     },
     "execution_count": 21,
     "metadata": {},
     "output_type": "execute_result"
    }
   ],
   "source": [
    "k1"
   ]
  },
  {
   "cell_type": "code",
   "execution_count": 22,
   "metadata": {
    "collapsed": false
   },
   "outputs": [
    {
     "name": "stdout",
     "output_type": "stream",
     "text": [
      "25000/25000 [==============================] - 17s    \n"
     ]
    }
   ],
   "source": [
    "k2=model.predict_classes(X_train)"
   ]
  },
  {
   "cell_type": "code",
   "execution_count": 23,
   "metadata": {
    "collapsed": false
   },
   "outputs": [
    {
     "data": {
      "text/plain": [
       "array([[1],\n",
       "       [1],\n",
       "       [0],\n",
       "       ..., \n",
       "       [0],\n",
       "       [0],\n",
       "       [1]], dtype=int32)"
      ]
     },
     "execution_count": 23,
     "metadata": {},
     "output_type": "execute_result"
    }
   ],
   "source": [
    "k2"
   ]
  },
  {
   "cell_type": "code",
   "execution_count": null,
   "metadata": {
    "collapsed": true
   },
   "outputs": [],
   "source": [
    "# def predict_classes(model, x, batch_size=32, verbose=1):\n",
    "#     '''Generate class predictions for the input samples\n",
    "#     batch by batch.\n",
    "#     # Arguments\n",
    "#         x: input data, as a Numpy array or list of Numpy arrays\n",
    "#             (if the model has multiple inputs).\n",
    "#         batch_size: integer.\n",
    "#         verbose: verbosity mode, 0 or 1.\n",
    "#     # Returns\n",
    "#         A numpy array of class predictions.\n",
    "#     '''\n",
    "#     proba = model.predict(x, batch_size=batch_size, verbose=verbose)\n",
    "#     if proba.shape[-1] > 1:\n",
    "#         return proba.argmax(axis=-1)\n",
    "#     else:\n",
    "#         return (proba > 0.8).astype('int32')"
   ]
  },
  {
   "cell_type": "code",
   "execution_count": null,
   "metadata": {
    "collapsed": false
   },
   "outputs": [],
   "source": [
    "# k3 = predict_classes(model, X_train)"
   ]
  },
  {
   "cell_type": "code",
   "execution_count": null,
   "metadata": {
    "collapsed": false
   },
   "outputs": [],
   "source": [
    "# k3"
   ]
  },
  {
   "cell_type": "code",
   "execution_count": null,
   "metadata": {
    "collapsed": false
   },
   "outputs": [],
   "source": [
    "# X_train[1]"
   ]
  },
  {
   "cell_type": "code",
   "execution_count": null,
   "metadata": {
    "collapsed": false
   },
   "outputs": [],
   "source": [
    "# data['review'][1]"
   ]
  },
  {
   "cell_type": "markdown",
   "metadata": {
    "collapsed": true
   },
   "source": [
    "## Test set"
   ]
  },
  {
   "cell_type": "code",
   "execution_count": 25,
   "metadata": {
    "collapsed": false
   },
   "outputs": [
    {
     "name": "stdout",
     "output_type": "stream",
     "text": [
      "['hello', 'I bought simcity and told I cannot install it due to the product code already being used', 'is there anyway to get the code reset or am i out the money paid?', 'this is a very bad policy as I bought it NEW', 'and very bad customer service', 'I already bought it! What does a 15% discount do when I already paid $60 for it?', 'may i speak with your supervisor', 'please do', 'EA has just lost a customer for life', 'I will gladly post to every forum social networking site about this issue', 'and considering I asked to SPEAK to your supervisor and you come back with a reply', 'that is very bad customer service', 'shows where EA rates its customers', 'really?', 'i need the phone number for your corporate office and your employee id number', 'Wanting to ask about upgrades', 'I am doing ok', 'yourself?', 'I am wanting to inquire about adding HD service and/or DVR to my existing plan', 'I am deciding whether to stay with comcast or move to AT&T', 'How much extra would it be to add HD alone? How much would it be to add HD and DVR? Is there a special pricing you can give to me as an existing customer no longer on contract?', 'There must be a typo in your last statement', '$15', '95!?', 'I contacted Comcast about a month or so ago and the young lady quoted me about $6', '00', 'Maybe you meant to type $5', '95?', 'Does that include DVR or just HD?', 'Ok', 'how about adding extra channels? Are there any options available for that?', 'How many? Which ones?', '?', 'So the HDHBO', 'HDStarz', 'and HDTMC are included free?', 'and when you say \"many more', '\" I would like to know specifically what channels', 'And what is the one more good thing?', 'I am not interested in 3D', 'thank you', 'I would like you to answer my above two questions', 'Would I be paying anything extra for the HBO and Starz on top of the $5', '95 extra? Do I only have those for 3 months as a free addon or is it included in the $5', '95 indefinitely?', 'And after 3 months? Can you please get to the chase? No need to beat around the bush', 'Those channels are not free and that is not a special deal if I have to pay for them', 'And from my understanding all the \"extra channels\" are just regular channels I already have but in \"HD', '\" am I correct?', 'And from my understanding all the \"extra channels\" are just regular channels I already have but in \"HD', '\" am I correct?', 'Ok', 'I am waiting for this link', 'Understood', 'Thanks', 'Link??', 'Which package type do I select from the drop down menu?', 'No', 'the link shows me all channels (963 of them)', 'From the drop down box', 'which package do I select? HD Digital Preferred? HD Digital Premiere? HD Digital Starter? Multilatino Ultra?', 'So if I add the $5', '95 HD service to my plan I have already', 'I would be considered to have the HD Digital Starter plan?', 'So the next step up would be the HD digital preferred? How much extra would I need to pay a month for that?', 'Ok', 'so If I add the $5', '95 HD addon', 'would I have to sign a contract or no?', 'Alright', 'Last question', 'what if I wanted to add DVR to the $5', '95 HD addon', 'how much would that be?', 'Would you happen to know how much my bill would be each month after taxes if I add the $5', '95? the $9', '95?', 'Thank you', 'Ok sounds good', 'I would like to add the HD and DVR $9', '95 addon', 'When does this start? Do I need to pick up the receiver? Does Comcast bring it to me?', 'Yes', 'Thanks', 'Fine', 'you probably have all the info you need from the previous chat', 'I would like to get this finalized as quick as possible', 'Yes', '******', 'If that is the $9', '95 add-on then yes', 'I have no idea what the means', 'I just spent a very long time with someone who said I just need to pay an extra $9', '95 a month for HD and DVR service upgrade', 'That is all I know and that is all I want', '?', 'Maiah', 'I would like to end this chat as quickly as possible', 'I have been talking with you all for a while now', 'I do not understand why I am being switched around to so many people and still have not been upgraded yet', 'I just spent almost two hours now finalizing this entire order and now you are telling me it is going to be $15', '95!? There is no way', 'I have above even the quoted monthly after taxes bill', 'I need to speak with a supervisor', 'This is ridiculous!', 'I need to speak to your supervisor', 'Two hours Maiah! Do not come in two minutes and change everything at the last second', 'That is not right one bit and I am extremely upset right now', '?????????????', 'Double check? Discount? You understand? This is not rocket science', 'The gentleman gave me the price of $9', '95 extra a month', 'I said yes', 'He connected me to get that added', \"I don't understand what the problem is and why it is taking so long\", 'I have now been connected with you for a half hour with still nothing to show Maiah', 'How convenient I receive all the \"wrong\" info and then when it is actually time to add it shoots up to $15', '95!? There should be no compensation or discount needed', 'The price should be $9', '95', 'simple as that', 'You must be out of your mind!! I need a supervisor this instance!', 'Do not talk to me anymore', 'Do not type anything else besides that you are connecting me to a supervisor', 'Why is it taking so long', 'Is there a delay in sending and receiving these messages???', 'Connect me to a supervisor', 'Connect me to a supervisor', 'Connect me to a supervisor', 'You better be typing that you are connecting me to s supervisor', 'Connect me to a supervisor', 'I did not ask for your explanation', 'I need to chat with a supervisor', 'I need a supervisor or I will be blogging this chat on tech forums to show the kind of customer service Comcast provides', 'Yes', 'OMG \\xe2\\x80\\x94 please stop empathizing with me and just solve my problem!', 'Elizabeth [last name]', '[Account number]', '[Social security number]', 'You should save your upsell offers until after you solve my problem', \"I don't need backups\", 'A random password is fine', \"I don't have it\", 'Is there another option?', \"[Best friend's name]\", 'Thank you', 'Yes', 'hold on', 'That worked', 'thank you', 'Hi', 'how are you Pawn?', 'Pawn', 'That\\xe2\\x80\\x99s a nice name', 'Not bad', 'have the day off work', 'Question \\xe2\\x80\\x93 on my latest bill', 'I had two charges for the Wrestler on Demand', 'The first didn\\xe2\\x80\\x99t work', 'so when I went back', 'it charged me a second time', 'OK', 'No', 'I just went back into it a second time b/c the first time didn\\xe2\\x80\\x99t work', 'it worked the second time', 'Hmm\\xe2\\x80\\xa6 I didn\\xe2\\x80\\x99t know about that contrived rule', 'and I didn\\xe2\\x80\\x99t think I\\xe2\\x80\\x99d be charged in the first place since the movie never worked', 'why would I pay twice for the same movie knowingly?', 'I am contacting you now to tell you', 'The movie did not work', 'Your service did not deliver as promised', 'so I should not have to pay for it', 'It\\xe2\\x80\\x99s only $2', '99', 'but it\\xe2\\x80\\x99s a matter of principle', 'Look', 'I know you have the power to extend a courtesy credit', 'It should not matter what date this happened', 'This is poor customer service', 'If you do not extend a credit for this', 'I\\xe2\\x80\\x99m going to cancel my Comcast service right now', 'I\\xe2\\x80\\x99ll give you the choice', 'Credit or Cancel', 'Up to you', '$2', '99 credit', 'Pawn', 'Make it easy on yourself and do the right thing', 'It does not matter what date this happened or when I am telling you about it', 'OK', 'go ahead and cancel my service', 'I\\xe2\\x80\\x99m tired of Comcast\\xe2\\x80\\x99s poor customer service and I don\\xe2\\x80\\x99t want to give you guys any more of my money', 'I\\xe2\\x80\\x99m also going to give this chat a poor rating when I\\xe2\\x80\\x99m done', 'Yes', 'That is what I\\xe2\\x80\\x99ve been asking for', 'Thank you', 'yes or no', 'Then we have to ask may I know whom I am speaking with?', 'ok', 'Go ahead', 'are you sure all local calls are for 45 paisa only?', 'But I already have two connections', 'What is the use of third one', 'ok', 'What do I have to do?', 'ok I have all these things ready', 'Ok', 'send your executive at 11 am tomorrow', 'You\\xe2\\x80\\x99re welcome', 'You too have a nice day', 'Bye', 'Yeah', 'hi', 'My system is down and I need to speak with a technician', 'Fred', 'I\\xe2\\x80\\x99m with GoldStar Environmental', 'Yes ma\\xe2\\x80\\x99am', '610-265-1715', 'Yes', 'My agents aren\\xe2\\x80\\x99t able to make or receive any telephone calls', 'No', 'actually', 'I can\\xe2\\x80\\x99t even get an Internet connection', 'I have Verizon', 'Yeah that\\xe2\\x80\\x99s my cell', 'That is working', 'Thank you very much for your help']\n"
     ]
    }
   ],
   "source": [
    "import re\n",
    "def run():\n",
    "\tfile = open(\"all.txt\")\n",
    " \tret = []\n",
    "\twhile 1:\n",
    "\t\tline = file.readline()\n",
    "\t\tif not line:\n",
    "\t\t\tbreak\n",
    "\t\tif line[:8] == 'Customer':\n",
    "\t\t\tline = line[8:]\n",
    "\t\t\tline = line.strip()\n",
    "\t\t\tline = line.replace(',',';')\n",
    "\t\t\tline = line.replace('.',';')\n",
    "\t\t\tline = line.replace(':',';')\n",
    "\t\t\tret.extend(line.split(';'))\n",
    "\tres = []\n",
    "\tfor k in ret:\n",
    "\t\tif k.strip() != \"\":\n",
    "\t\t\tres.append(k.strip())\n",
    "\tprint res\n",
    "\treturn res\n",
    "\n",
    "def main():\n",
    "\trun()\n",
    "\n",
    "\n",
    "\n",
    "if __name__ == '__main__':\n",
    "\tmain()"
   ]
  },
  {
   "cell_type": "code",
   "execution_count": 26,
   "metadata": {
    "collapsed": false
   },
   "outputs": [
    {
     "name": "stdout",
     "output_type": "stream",
     "text": [
      "['hello', 'I bought simcity and told I cannot install it due to the product code already being used', 'is there anyway to get the code reset or am i out the money paid?', 'this is a very bad policy as I bought it NEW', 'and very bad customer service', 'I already bought it! What does a 15% discount do when I already paid $60 for it?', 'may i speak with your supervisor', 'please do', 'EA has just lost a customer for life', 'I will gladly post to every forum social networking site about this issue', 'and considering I asked to SPEAK to your supervisor and you come back with a reply', 'that is very bad customer service', 'shows where EA rates its customers', 'really?', 'i need the phone number for your corporate office and your employee id number', 'Wanting to ask about upgrades', 'I am doing ok', 'yourself?', 'I am wanting to inquire about adding HD service and/or DVR to my existing plan', 'I am deciding whether to stay with comcast or move to AT&T', 'How much extra would it be to add HD alone? How much would it be to add HD and DVR? Is there a special pricing you can give to me as an existing customer no longer on contract?', 'There must be a typo in your last statement', '$15', '95!?', 'I contacted Comcast about a month or so ago and the young lady quoted me about $6', '00', 'Maybe you meant to type $5', '95?', 'Does that include DVR or just HD?', 'Ok', 'how about adding extra channels? Are there any options available for that?', 'How many? Which ones?', '?', 'So the HDHBO', 'HDStarz', 'and HDTMC are included free?', 'and when you say \"many more', '\" I would like to know specifically what channels', 'And what is the one more good thing?', 'I am not interested in 3D', 'thank you', 'I would like you to answer my above two questions', 'Would I be paying anything extra for the HBO and Starz on top of the $5', '95 extra? Do I only have those for 3 months as a free addon or is it included in the $5', '95 indefinitely?', 'And after 3 months? Can you please get to the chase? No need to beat around the bush', 'Those channels are not free and that is not a special deal if I have to pay for them', 'And from my understanding all the \"extra channels\" are just regular channels I already have but in \"HD', '\" am I correct?', 'And from my understanding all the \"extra channels\" are just regular channels I already have but in \"HD', '\" am I correct?', 'Ok', 'I am waiting for this link', 'Understood', 'Thanks', 'Link??', 'Which package type do I select from the drop down menu?', 'No', 'the link shows me all channels (963 of them)', 'From the drop down box', 'which package do I select? HD Digital Preferred? HD Digital Premiere? HD Digital Starter? Multilatino Ultra?', 'So if I add the $5', '95 HD service to my plan I have already', 'I would be considered to have the HD Digital Starter plan?', 'So the next step up would be the HD digital preferred? How much extra would I need to pay a month for that?', 'Ok', 'so If I add the $5', '95 HD addon', 'would I have to sign a contract or no?', 'Alright', 'Last question', 'what if I wanted to add DVR to the $5', '95 HD addon', 'how much would that be?', 'Would you happen to know how much my bill would be each month after taxes if I add the $5', '95? the $9', '95?', 'Thank you', 'Ok sounds good', 'I would like to add the HD and DVR $9', '95 addon', 'When does this start? Do I need to pick up the receiver? Does Comcast bring it to me?', 'Yes', 'Thanks', 'Fine', 'you probably have all the info you need from the previous chat', 'I would like to get this finalized as quick as possible', 'Yes', '******', 'If that is the $9', '95 add-on then yes', 'I have no idea what the means', 'I just spent a very long time with someone who said I just need to pay an extra $9', '95 a month for HD and DVR service upgrade', 'That is all I know and that is all I want', '?', 'Maiah', 'I would like to end this chat as quickly as possible', 'I have been talking with you all for a while now', 'I do not understand why I am being switched around to so many people and still have not been upgraded yet', 'I just spent almost two hours now finalizing this entire order and now you are telling me it is going to be $15', '95!? There is no way', 'I have above even the quoted monthly after taxes bill', 'I need to speak with a supervisor', 'This is ridiculous!', 'I need to speak to your supervisor', 'Two hours Maiah! Do not come in two minutes and change everything at the last second', 'That is not right one bit and I am extremely upset right now', '?????????????', 'Double check? Discount? You understand? This is not rocket science', 'The gentleman gave me the price of $9', '95 extra a month', 'I said yes', 'He connected me to get that added', \"I don't understand what the problem is and why it is taking so long\", 'I have now been connected with you for a half hour with still nothing to show Maiah', 'How convenient I receive all the \"wrong\" info and then when it is actually time to add it shoots up to $15', '95!? There should be no compensation or discount needed', 'The price should be $9', '95', 'simple as that', 'You must be out of your mind!! I need a supervisor this instance!', 'Do not talk to me anymore', 'Do not type anything else besides that you are connecting me to a supervisor', 'Why is it taking so long', 'Is there a delay in sending and receiving these messages???', 'Connect me to a supervisor', 'Connect me to a supervisor', 'Connect me to a supervisor', 'You better be typing that you are connecting me to s supervisor', 'Connect me to a supervisor', 'I did not ask for your explanation', 'I need to chat with a supervisor', 'I need a supervisor or I will be blogging this chat on tech forums to show the kind of customer service Comcast provides', 'Yes', 'OMG \\xe2\\x80\\x94 please stop empathizing with me and just solve my problem!', 'Elizabeth [last name]', '[Account number]', '[Social security number]', 'You should save your upsell offers until after you solve my problem', \"I don't need backups\", 'A random password is fine', \"I don't have it\", 'Is there another option?', \"[Best friend's name]\", 'Thank you', 'Yes', 'hold on', 'That worked', 'thank you', 'Hi', 'how are you Pawn?', 'Pawn', 'That\\xe2\\x80\\x99s a nice name', 'Not bad', 'have the day off work', 'Question \\xe2\\x80\\x93 on my latest bill', 'I had two charges for the Wrestler on Demand', 'The first didn\\xe2\\x80\\x99t work', 'so when I went back', 'it charged me a second time', 'OK', 'No', 'I just went back into it a second time b/c the first time didn\\xe2\\x80\\x99t work', 'it worked the second time', 'Hmm\\xe2\\x80\\xa6 I didn\\xe2\\x80\\x99t know about that contrived rule', 'and I didn\\xe2\\x80\\x99t think I\\xe2\\x80\\x99d be charged in the first place since the movie never worked', 'why would I pay twice for the same movie knowingly?', 'I am contacting you now to tell you', 'The movie did not work', 'Your service did not deliver as promised', 'so I should not have to pay for it', 'It\\xe2\\x80\\x99s only $2', '99', 'but it\\xe2\\x80\\x99s a matter of principle', 'Look', 'I know you have the power to extend a courtesy credit', 'It should not matter what date this happened', 'This is poor customer service', 'If you do not extend a credit for this', 'I\\xe2\\x80\\x99m going to cancel my Comcast service right now', 'I\\xe2\\x80\\x99ll give you the choice', 'Credit or Cancel', 'Up to you', '$2', '99 credit', 'Pawn', 'Make it easy on yourself and do the right thing', 'It does not matter what date this happened or when I am telling you about it', 'OK', 'go ahead and cancel my service', 'I\\xe2\\x80\\x99m tired of Comcast\\xe2\\x80\\x99s poor customer service and I don\\xe2\\x80\\x99t want to give you guys any more of my money', 'I\\xe2\\x80\\x99m also going to give this chat a poor rating when I\\xe2\\x80\\x99m done', 'Yes', 'That is what I\\xe2\\x80\\x99ve been asking for', 'Thank you', 'yes or no', 'Then we have to ask may I know whom I am speaking with?', 'ok', 'Go ahead', 'are you sure all local calls are for 45 paisa only?', 'But I already have two connections', 'What is the use of third one', 'ok', 'What do I have to do?', 'ok I have all these things ready', 'Ok', 'send your executive at 11 am tomorrow', 'You\\xe2\\x80\\x99re welcome', 'You too have a nice day', 'Bye', 'Yeah', 'hi', 'My system is down and I need to speak with a technician', 'Fred', 'I\\xe2\\x80\\x99m with GoldStar Environmental', 'Yes ma\\xe2\\x80\\x99am', '610-265-1715', 'Yes', 'My agents aren\\xe2\\x80\\x99t able to make or receive any telephone calls', 'No', 'actually', 'I can\\xe2\\x80\\x99t even get an Internet connection', 'I have Verizon', 'Yeah that\\xe2\\x80\\x99s my cell', 'That is working', 'Thank you very much for your help']\n"
     ]
    }
   ],
   "source": [
    "op = run()"
   ]
  },
  {
   "cell_type": "code",
   "execution_count": 27,
   "metadata": {
    "collapsed": true
   },
   "outputs": [],
   "source": [
    "import re\n",
    "l = []\n",
    "for i in op:\n",
    "    l.append(i)#.encode('utf-8'))"
   ]
  },
  {
   "cell_type": "code",
   "execution_count": 28,
   "metadata": {
    "collapsed": true
   },
   "outputs": [],
   "source": [
    "from keras.preprocessing.text import Tokenizer, base_filter\n",
    "\n",
    "max_vocab_size = 50000\n",
    "\n",
    "# `filters` specify what characters to get rid of\n",
    "# `base_filter()` includes basic punctuation;\n",
    "# I like to extend it with common unicode punctuation\n",
    "tokenizer = Tokenizer(nb_words=max_vocab_size,\n",
    "                     filters=base_filter()+'“”–')\n",
    "\n",
    "# fit the tokenizer\n",
    "tokenizer.fit_on_texts(l)\n",
    "test2 = []\n",
    "# we also want to keep track of the actual vocab size\n",
    "# we'll need this later\n",
    "# note: we add one because `0` is a reserved index in keras' tokenizer\n",
    "vocab_size = len(tokenizer.word_index) + 1\n",
    "for seq in tokenizer.texts_to_sequences(l):\n",
    "       test2.append(seq)"
   ]
  },
  {
   "cell_type": "code",
   "execution_count": 29,
   "metadata": {
    "collapsed": false
   },
   "outputs": [
    {
     "name": "stdout",
     "output_type": "stream",
     "text": [
      "Pad sequences (samples x time)\n"
     ]
    }
   ],
   "source": [
    "print('Pad sequences (samples x time)')\n",
    "test2 = sequence.pad_sequences(test2, maxlen=100)"
   ]
  },
  {
   "cell_type": "code",
   "execution_count": 30,
   "metadata": {
    "collapsed": true
   },
   "outputs": [],
   "source": [
    "k5=model.predict(test2)"
   ]
  },
  {
   "cell_type": "code",
   "execution_count": 31,
   "metadata": {
    "collapsed": false
   },
   "outputs": [
    {
     "data": {
      "text/plain": [
       "array([[ 0.6150341 ],\n",
       "       [ 0.93774295],\n",
       "       [ 0.82692462],\n",
       "       [ 0.26927882],\n",
       "       [ 0.35284719],\n",
       "       [ 0.68346202],\n",
       "       [ 0.5176912 ],\n",
       "       [ 0.87635094],\n",
       "       [ 0.70256692],\n",
       "       [ 0.68085206],\n",
       "       [ 0.90621799],\n",
       "       [ 0.40417346],\n",
       "       [ 0.59264529],\n",
       "       [ 0.49847844],\n",
       "       [ 0.88083476],\n",
       "       [ 0.76779288],\n",
       "       [ 0.32717764],\n",
       "       [ 0.67836237],\n",
       "       [ 0.89299691],\n",
       "       [ 0.459539  ],\n",
       "       [ 0.90199977],\n",
       "       [ 0.45718169],\n",
       "       [ 0.76030016],\n",
       "       [ 0.69038332],\n",
       "       [ 0.25563088],\n",
       "       [ 0.92387486],\n",
       "       [ 0.79054242],\n",
       "       [ 0.69038332],\n",
       "       [ 0.8355037 ],\n",
       "       [ 0.61352098],\n",
       "       [ 0.51107204],\n",
       "       [ 0.8019473 ],\n",
       "       [ 0.65174818],\n",
       "       [ 0.59006035],\n",
       "       [ 0.70040226],\n",
       "       [ 0.71724451],\n",
       "       [ 0.81642812],\n",
       "       [ 0.37185359],\n",
       "       [ 0.52999276],\n",
       "       [ 0.59694958],\n",
       "       [ 0.68980432],\n",
       "       [ 0.81612951],\n",
       "       [ 0.89074898],\n",
       "       [ 0.64480108],\n",
       "       [ 0.68236721],\n",
       "       [ 0.75780958],\n",
       "       [ 0.79931474],\n",
       "       [ 0.68911016],\n",
       "       [ 0.53257185],\n",
       "       [ 0.68911016],\n",
       "       [ 0.53257185],\n",
       "       [ 0.61352098],\n",
       "       [ 0.42732042],\n",
       "       [ 0.73813319],\n",
       "       [ 0.59227854],\n",
       "       [ 0.53477001],\n",
       "       [ 0.19454752],\n",
       "       [ 0.69067615],\n",
       "       [ 0.21606447],\n",
       "       [ 0.42655501],\n",
       "       [ 0.72143865],\n",
       "       [ 0.8157329 ],\n",
       "       [ 0.86084127],\n",
       "       [ 0.86036462],\n",
       "       [ 0.06519749],\n",
       "       [ 0.61352098],\n",
       "       [ 0.8157329 ],\n",
       "       [ 0.77440387],\n",
       "       [ 0.93131989],\n",
       "       [ 0.65602684],\n",
       "       [ 0.67580223],\n",
       "       [ 0.9632234 ],\n",
       "       [ 0.77440387],\n",
       "       [ 0.80015212],\n",
       "       [ 0.91298252],\n",
       "       [ 0.64072996],\n",
       "       [ 0.69038332],\n",
       "       [ 0.68980432],\n",
       "       [ 0.69304001],\n",
       "       [ 0.49935234],\n",
       "       [ 0.79714519],\n",
       "       [ 0.85150617],\n",
       "       [ 0.64626384],\n",
       "       [ 0.59227854],\n",
       "       [ 0.66157198],\n",
       "       [ 0.91441441],\n",
       "       [ 0.3638961 ],\n",
       "       [ 0.64626384],\n",
       "       [ 0.65174818],\n",
       "       [ 0.61782652],\n",
       "       [ 0.76992673],\n",
       "       [ 0.40999088],\n",
       "       [ 0.37854102],\n",
       "       [ 0.74253362],\n",
       "       [ 0.70019203],\n",
       "       [ 0.65174818],\n",
       "       [ 0.65345258],\n",
       "       [ 0.57668173],\n",
       "       [ 0.96550441],\n",
       "       [ 0.64157683],\n",
       "       [ 0.96218789],\n",
       "       [ 0.73630881],\n",
       "       [ 0.87577677],\n",
       "       [ 0.84647614],\n",
       "       [ 0.74002045],\n",
       "       [ 0.86865932],\n",
       "       [ 0.80965722],\n",
       "       [ 0.74053824],\n",
       "       [ 0.65174818],\n",
       "       [ 0.61143953],\n",
       "       [ 0.51038766],\n",
       "       [ 0.75445807],\n",
       "       [ 0.76262259],\n",
       "       [ 0.9108721 ],\n",
       "       [ 0.9180941 ],\n",
       "       [ 0.86024356],\n",
       "       [ 0.81952929],\n",
       "       [ 0.79190743],\n",
       "       [ 0.95723099],\n",
       "       [ 0.69038332],\n",
       "       [ 0.68000436],\n",
       "       [ 0.40862098],\n",
       "       [ 0.73327881],\n",
       "       [ 0.80603063],\n",
       "       [ 0.91826868],\n",
       "       [ 0.79725176],\n",
       "       [ 0.76403564],\n",
       "       [ 0.76403564],\n",
       "       [ 0.76403564],\n",
       "       [ 0.72973162],\n",
       "       [ 0.76403564],\n",
       "       [ 0.83758146],\n",
       "       [ 0.9317956 ],\n",
       "       [ 0.8119635 ],\n",
       "       [ 0.64626384],\n",
       "       [ 0.8718909 ],\n",
       "       [ 0.49971926],\n",
       "       [ 0.31124693],\n",
       "       [ 0.66748744],\n",
       "       [ 0.92369372],\n",
       "       [ 0.78207177],\n",
       "       [ 0.64522612],\n",
       "       [ 0.77405667],\n",
       "       [ 0.41086668],\n",
       "       [ 0.09363662],\n",
       "       [ 0.68980432],\n",
       "       [ 0.64626384],\n",
       "       [ 0.72522968],\n",
       "       [ 0.85780567],\n",
       "       [ 0.68980432],\n",
       "       [ 0.827106  ],\n",
       "       [ 0.76054776],\n",
       "       [ 0.64733547],\n",
       "       [ 0.56488806],\n",
       "       [ 0.68553692],\n",
       "       [ 0.90663177],\n",
       "       [ 0.95506048],\n",
       "       [ 0.37110221],\n",
       "       [ 0.61009192],\n",
       "       [ 0.80305105],\n",
       "       [ 0.41354617],\n",
       "       [ 0.61352098],\n",
       "       [ 0.69067615],\n",
       "       [ 0.30154464],\n",
       "       [ 0.87686962],\n",
       "       [ 0.40032625],\n",
       "       [ 0.79261214],\n",
       "       [ 0.84191644],\n",
       "       [ 0.89625353],\n",
       "       [ 0.70833266],\n",
       "       [ 0.54322857],\n",
       "       [ 0.93727529],\n",
       "       [ 0.72666609],\n",
       "       [ 0.62768608],\n",
       "       [ 0.36345881],\n",
       "       [ 0.68553174],\n",
       "       [ 0.6636135 ],\n",
       "       [ 0.91933376],\n",
       "       [ 0.57645303],\n",
       "       [ 0.83189297],\n",
       "       [ 0.86837751],\n",
       "       [ 0.93422955],\n",
       "       [ 0.72545141],\n",
       "       [ 0.78332525],\n",
       "       [ 0.44175413],\n",
       "       [ 0.67831385],\n",
       "       [ 0.64733547],\n",
       "       [ 0.73666471],\n",
       "       [ 0.85492361],\n",
       "       [ 0.61352098],\n",
       "       [ 0.41559041],\n",
       "       [ 0.87573147],\n",
       "       [ 0.87771493],\n",
       "       [ 0.64626384],\n",
       "       [ 0.77002645],\n",
       "       [ 0.68980432],\n",
       "       [ 0.68401998],\n",
       "       [ 0.64097291],\n",
       "       [ 0.61352098],\n",
       "       [ 0.700598  ],\n",
       "       [ 0.88503063],\n",
       "       [ 0.91223752],\n",
       "       [ 0.42602772],\n",
       "       [ 0.61352098],\n",
       "       [ 0.880077  ],\n",
       "       [ 0.88937908],\n",
       "       [ 0.61352098],\n",
       "       [ 0.34033734],\n",
       "       [ 0.73467284],\n",
       "       [ 0.89193553],\n",
       "       [ 0.63161778],\n",
       "       [ 0.65019208],\n",
       "       [ 0.827106  ],\n",
       "       [ 0.79114741],\n",
       "       [ 0.78931051],\n",
       "       [ 0.76703018],\n",
       "       [ 0.51165122],\n",
       "       [ 0.70883471],\n",
       "       [ 0.64626384],\n",
       "       [ 0.72430319],\n",
       "       [ 0.69067615],\n",
       "       [ 0.69629264],\n",
       "       [ 0.64864421],\n",
       "       [ 0.779477  ],\n",
       "       [ 0.5518378 ],\n",
       "       [ 0.71968079],\n",
       "       [ 0.76445591]], dtype=float32)"
      ]
     },
     "execution_count": 31,
     "metadata": {},
     "output_type": "execute_result"
    }
   ],
   "source": [
    "k5"
   ]
  },
  {
   "cell_type": "code",
   "execution_count": 32,
   "metadata": {
    "collapsed": false
   },
   "outputs": [
    {
     "name": "stdout",
     "output_type": "stream",
     "text": [
      "224/227 [============================>.] - ETA: 0s"
     ]
    }
   ],
   "source": [
    "k5 = model.predict_classes(test2)"
   ]
  },
  {
   "cell_type": "code",
   "execution_count": 33,
   "metadata": {
    "collapsed": false
   },
   "outputs": [
    {
     "data": {
      "text/plain": [
       "array([[1],\n",
       "       [1],\n",
       "       [1],\n",
       "       [0],\n",
       "       [0],\n",
       "       [1],\n",
       "       [1],\n",
       "       [1],\n",
       "       [1],\n",
       "       [1],\n",
       "       [1],\n",
       "       [0],\n",
       "       [1],\n",
       "       [0],\n",
       "       [1],\n",
       "       [1],\n",
       "       [0],\n",
       "       [1],\n",
       "       [1],\n",
       "       [0],\n",
       "       [1],\n",
       "       [0],\n",
       "       [1],\n",
       "       [1],\n",
       "       [0],\n",
       "       [1],\n",
       "       [1],\n",
       "       [1],\n",
       "       [1],\n",
       "       [1],\n",
       "       [1],\n",
       "       [1],\n",
       "       [1],\n",
       "       [1],\n",
       "       [1],\n",
       "       [1],\n",
       "       [1],\n",
       "       [0],\n",
       "       [1],\n",
       "       [1],\n",
       "       [1],\n",
       "       [1],\n",
       "       [1],\n",
       "       [1],\n",
       "       [1],\n",
       "       [1],\n",
       "       [1],\n",
       "       [1],\n",
       "       [1],\n",
       "       [1],\n",
       "       [1],\n",
       "       [1],\n",
       "       [0],\n",
       "       [1],\n",
       "       [1],\n",
       "       [1],\n",
       "       [0],\n",
       "       [1],\n",
       "       [0],\n",
       "       [0],\n",
       "       [1],\n",
       "       [1],\n",
       "       [1],\n",
       "       [1],\n",
       "       [0],\n",
       "       [1],\n",
       "       [1],\n",
       "       [1],\n",
       "       [1],\n",
       "       [1],\n",
       "       [1],\n",
       "       [1],\n",
       "       [1],\n",
       "       [1],\n",
       "       [1],\n",
       "       [1],\n",
       "       [1],\n",
       "       [1],\n",
       "       [1],\n",
       "       [0],\n",
       "       [1],\n",
       "       [1],\n",
       "       [1],\n",
       "       [1],\n",
       "       [1],\n",
       "       [1],\n",
       "       [0],\n",
       "       [1],\n",
       "       [1],\n",
       "       [1],\n",
       "       [1],\n",
       "       [0],\n",
       "       [0],\n",
       "       [1],\n",
       "       [1],\n",
       "       [1],\n",
       "       [1],\n",
       "       [1],\n",
       "       [1],\n",
       "       [1],\n",
       "       [1],\n",
       "       [1],\n",
       "       [1],\n",
       "       [1],\n",
       "       [1],\n",
       "       [1],\n",
       "       [1],\n",
       "       [1],\n",
       "       [1],\n",
       "       [1],\n",
       "       [1],\n",
       "       [1],\n",
       "       [1],\n",
       "       [1],\n",
       "       [1],\n",
       "       [1],\n",
       "       [1],\n",
       "       [1],\n",
       "       [1],\n",
       "       [1],\n",
       "       [1],\n",
       "       [0],\n",
       "       [1],\n",
       "       [1],\n",
       "       [1],\n",
       "       [1],\n",
       "       [1],\n",
       "       [1],\n",
       "       [1],\n",
       "       [1],\n",
       "       [1],\n",
       "       [1],\n",
       "       [1],\n",
       "       [1],\n",
       "       [1],\n",
       "       [1],\n",
       "       [0],\n",
       "       [0],\n",
       "       [1],\n",
       "       [1],\n",
       "       [1],\n",
       "       [1],\n",
       "       [1],\n",
       "       [0],\n",
       "       [0],\n",
       "       [1],\n",
       "       [1],\n",
       "       [1],\n",
       "       [1],\n",
       "       [1],\n",
       "       [1],\n",
       "       [1],\n",
       "       [1],\n",
       "       [1],\n",
       "       [1],\n",
       "       [1],\n",
       "       [1],\n",
       "       [0],\n",
       "       [1],\n",
       "       [1],\n",
       "       [0],\n",
       "       [1],\n",
       "       [1],\n",
       "       [0],\n",
       "       [1],\n",
       "       [0],\n",
       "       [1],\n",
       "       [1],\n",
       "       [1],\n",
       "       [1],\n",
       "       [1],\n",
       "       [1],\n",
       "       [1],\n",
       "       [1],\n",
       "       [0],\n",
       "       [1],\n",
       "       [1],\n",
       "       [1],\n",
       "       [1],\n",
       "       [1],\n",
       "       [1],\n",
       "       [1],\n",
       "       [1],\n",
       "       [1],\n",
       "       [0],\n",
       "       [1],\n",
       "       [1],\n",
       "       [1],\n",
       "       [1],\n",
       "       [1],\n",
       "       [0],\n",
       "       [1],\n",
       "       [1],\n",
       "       [1],\n",
       "       [1],\n",
       "       [1],\n",
       "       [1],\n",
       "       [1],\n",
       "       [1],\n",
       "       [1],\n",
       "       [1],\n",
       "       [1],\n",
       "       [0],\n",
       "       [1],\n",
       "       [1],\n",
       "       [1],\n",
       "       [1],\n",
       "       [0],\n",
       "       [1],\n",
       "       [1],\n",
       "       [1],\n",
       "       [1],\n",
       "       [1],\n",
       "       [1],\n",
       "       [1],\n",
       "       [1],\n",
       "       [1],\n",
       "       [1],\n",
       "       [1],\n",
       "       [1],\n",
       "       [1],\n",
       "       [1],\n",
       "       [1],\n",
       "       [1],\n",
       "       [1],\n",
       "       [1],\n",
       "       [1]], dtype=int32)"
      ]
     },
     "execution_count": 33,
     "metadata": {},
     "output_type": "execute_result"
    }
   ],
   "source": [
    "k5"
   ]
  },
  {
   "cell_type": "code",
   "execution_count": 34,
   "metadata": {
    "collapsed": true
   },
   "outputs": [],
   "source": [
    "def bin2Scaled(polarity, magnitude):\n",
    "\t# This function converts a binary measurement (of sentiment analysis)\n",
    "\t# into a 7-point assesment as is used currently at Google.\n",
    "\tif polarity==1:\n",
    "\t\treturn 5 + magnitude*2\n",
    "\telse:\n",
    "\t\treturn 5 - magnitude*5"
   ]
  },
  {
   "cell_type": "code",
   "execution_count": 44,
   "metadata": {
    "collapsed": false
   },
   "outputs": [
    {
     "data": {
      "text/plain": [
       "array([[7],\n",
       "       [7],\n",
       "       [7],\n",
       "       [5],\n",
       "       [5],\n",
       "       [7],\n",
       "       [7],\n",
       "       [7],\n",
       "       [7],\n",
       "       [7],\n",
       "       [7],\n",
       "       [5],\n",
       "       [7],\n",
       "       [5],\n",
       "       [7],\n",
       "       [7],\n",
       "       [5],\n",
       "       [7],\n",
       "       [7],\n",
       "       [5],\n",
       "       [7],\n",
       "       [5],\n",
       "       [7],\n",
       "       [7],\n",
       "       [5],\n",
       "       [7],\n",
       "       [7],\n",
       "       [7],\n",
       "       [7],\n",
       "       [7],\n",
       "       [7],\n",
       "       [7],\n",
       "       [7],\n",
       "       [7],\n",
       "       [7],\n",
       "       [7],\n",
       "       [7],\n",
       "       [5],\n",
       "       [7],\n",
       "       [7],\n",
       "       [7],\n",
       "       [7],\n",
       "       [7],\n",
       "       [7],\n",
       "       [7],\n",
       "       [7],\n",
       "       [7],\n",
       "       [7],\n",
       "       [7],\n",
       "       [7],\n",
       "       [7],\n",
       "       [7],\n",
       "       [5],\n",
       "       [7],\n",
       "       [7],\n",
       "       [7],\n",
       "       [5],\n",
       "       [7],\n",
       "       [5],\n",
       "       [5],\n",
       "       [7],\n",
       "       [7],\n",
       "       [7],\n",
       "       [7],\n",
       "       [5],\n",
       "       [7],\n",
       "       [7],\n",
       "       [7],\n",
       "       [7],\n",
       "       [7],\n",
       "       [7],\n",
       "       [7],\n",
       "       [7],\n",
       "       [7],\n",
       "       [7],\n",
       "       [7],\n",
       "       [7],\n",
       "       [7],\n",
       "       [7],\n",
       "       [5],\n",
       "       [7],\n",
       "       [7],\n",
       "       [7],\n",
       "       [7],\n",
       "       [7],\n",
       "       [7],\n",
       "       [5],\n",
       "       [7],\n",
       "       [7],\n",
       "       [7],\n",
       "       [7],\n",
       "       [5],\n",
       "       [5],\n",
       "       [7],\n",
       "       [7],\n",
       "       [7],\n",
       "       [7],\n",
       "       [7],\n",
       "       [7],\n",
       "       [7],\n",
       "       [7],\n",
       "       [7],\n",
       "       [7],\n",
       "       [7],\n",
       "       [7],\n",
       "       [7],\n",
       "       [7],\n",
       "       [7],\n",
       "       [7],\n",
       "       [7],\n",
       "       [7],\n",
       "       [7],\n",
       "       [7],\n",
       "       [7],\n",
       "       [7],\n",
       "       [7],\n",
       "       [7],\n",
       "       [7],\n",
       "       [7],\n",
       "       [7],\n",
       "       [7],\n",
       "       [5],\n",
       "       [7],\n",
       "       [7],\n",
       "       [7],\n",
       "       [7],\n",
       "       [7],\n",
       "       [7],\n",
       "       [7],\n",
       "       [7],\n",
       "       [7],\n",
       "       [7],\n",
       "       [7],\n",
       "       [7],\n",
       "       [7],\n",
       "       [7],\n",
       "       [5],\n",
       "       [5],\n",
       "       [7],\n",
       "       [7],\n",
       "       [7],\n",
       "       [7],\n",
       "       [7],\n",
       "       [5],\n",
       "       [5],\n",
       "       [7],\n",
       "       [7],\n",
       "       [7],\n",
       "       [7],\n",
       "       [7],\n",
       "       [7],\n",
       "       [7],\n",
       "       [7],\n",
       "       [7],\n",
       "       [7],\n",
       "       [7],\n",
       "       [7],\n",
       "       [5],\n",
       "       [7],\n",
       "       [7],\n",
       "       [5],\n",
       "       [7],\n",
       "       [7],\n",
       "       [5],\n",
       "       [7],\n",
       "       [5],\n",
       "       [7],\n",
       "       [7],\n",
       "       [7],\n",
       "       [7],\n",
       "       [7],\n",
       "       [7],\n",
       "       [7],\n",
       "       [7],\n",
       "       [5],\n",
       "       [7],\n",
       "       [7],\n",
       "       [7],\n",
       "       [7],\n",
       "       [7],\n",
       "       [7],\n",
       "       [7],\n",
       "       [7],\n",
       "       [7],\n",
       "       [5],\n",
       "       [7],\n",
       "       [7],\n",
       "       [7],\n",
       "       [7],\n",
       "       [7],\n",
       "       [5],\n",
       "       [7],\n",
       "       [7],\n",
       "       [7],\n",
       "       [7],\n",
       "       [7],\n",
       "       [7],\n",
       "       [7],\n",
       "       [7],\n",
       "       [7],\n",
       "       [7],\n",
       "       [7],\n",
       "       [5],\n",
       "       [7],\n",
       "       [7],\n",
       "       [7],\n",
       "       [7],\n",
       "       [5],\n",
       "       [7],\n",
       "       [7],\n",
       "       [7],\n",
       "       [7],\n",
       "       [7],\n",
       "       [7],\n",
       "       [7],\n",
       "       [7],\n",
       "       [7],\n",
       "       [7],\n",
       "       [7],\n",
       "       [7],\n",
       "       [7],\n",
       "       [7],\n",
       "       [7],\n",
       "       [7],\n",
       "       [7],\n",
       "       [7],\n",
       "       [7]], dtype=int32)"
      ]
     },
     "execution_count": 44,
     "metadata": {},
     "output_type": "execute_result"
    }
   ],
   "source": [
    "bin2Scaled(1,k5)"
   ]
  },
  {
   "cell_type": "code",
   "execution_count": null,
   "metadata": {
    "collapsed": true
   },
   "outputs": [],
   "source": []
  }
 ],
 "metadata": {
  "anaconda-cloud": {},
  "kernelspec": {
   "display_name": "Python [newkeras]",
   "language": "python",
   "name": "Python [newkeras]"
  },
  "language_info": {
   "codemirror_mode": {
    "name": "ipython",
    "version": 2
   },
   "file_extension": ".py",
   "mimetype": "text/x-python",
   "name": "python",
   "nbconvert_exporter": "python",
   "pygments_lexer": "ipython2",
   "version": "2.7.12"
  }
 },
 "nbformat": 4,
 "nbformat_minor": 1
}
